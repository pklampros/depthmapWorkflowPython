{
 "cells": [
  {
   "cell_type": "markdown",
   "id": "c75e6d99",
   "metadata": {},
   "source": [
    "---\n",
    "# Space Syntax analysis in Python\n",
    "\n",
    "## 1. Basic functionality\n",
    "---\n",
    "\n",
    "This document is a Python-translated version of an R workshop that presented a workflow for working with spatial data common to the space syntax field. The workshop also introduced participants to the rdepthmap package by Petros Koutsolampros, Fani Kostourou and Kimon Krenz. It aimed to make participants familiar with 1) importing spatial data for urban and building scale, 2) running space syntax analysis with the rdepthmap package and 3) managing and plotting these and other related datasets.\n",
    "\n",
    "This is a [Python (Jupyter)](https://jupyter.org/) Notebook. When you execute code within the notebook, the results appear beneath the code. While the typical purpose of such documents is to produce reports, this document serves mainly as a relatively visual guide through the code.\n",
    "\n",
    "This document, as a Python document, has a few differences to the R document. While R has many data-analysis tools already embedded, in Python we need to call upon the **Pandas** library (among others) to give us similar functionality. This is because Python was conceived as a more general programming language while R as an analysis-specific language. This document demonstrates how to use Python/Pandas as an analysis language; for more general use there are multiple tutorials online.\n",
    "\n",
    "There are three parts to this:\n",
    "- Basic functionality such as data.frames, plotting, making histograms etc.\n",
    "- Spatial data and four of its forms:\n",
    "  - Points (SpatialPointsDataFrame), typically used for observations data such as counts\n",
    "  - Lines (SpatialPointsDataFrame), as the usual axial/segment networks used in space syntax\n",
    "  - Polygons (SpatialPointsDataFrame), as plots of land or areas and rooms in buildings\n",
    "  - Pixels (SpatialPointsDataFrame), equivalent to the GIS Raster, as used in Visibility Graph Analysis\n",
    "- The rdepthmap package \n",
    "\n",
    "Code is only \"run\" within code chunks. Other chunks (like this text) can instead by interpreted as Markdown Text (a simple annotation format).\n",
    "Given that the aim of this document is to allow for reproducable workflows, all results and graphs should be created when all the chunks are run in order.\n",
    "\n",
    "Text that starts with hash (#) is considered \"comment\" code and will not be read by Python\n",
    "The numbers on the left are increased as each chunk is executed. **They are NOT the number of the chunk**"
   ]
  },
  {
   "cell_type": "markdown",
   "id": "96223056",
   "metadata": {},
   "source": [
    "---\n",
    "As mentioned above, we first have to load some libraries to enable core analysis and plotting"
   ]
  },
  {
   "cell_type": "code",
   "execution_count": 1,
   "id": "39213319",
   "metadata": {},
   "outputs": [],
   "source": [
    "# Load pandas, the DataFrame and data handling library and from now on refer to it as \"pd\"\n",
    "import pandas as pd\n",
    "\n",
    "# Load the pyplot module from the matplotlib library for plotting, refer to it as \"plt\"\n",
    "import matplotlib.pyplot as plt"
   ]
  },
  {
   "cell_type": "markdown",
   "id": "2e044fd5",
   "metadata": {},
   "source": [
    "---\n",
    "A Pandas DataFrame is something akin to an excel sheet, in that it contains tabular data. The next chunk reads a Comma-Separated Values (CSV) file from the data directory as a DataFrame (called \"carsDF\") and displays the first 5 lines. Running the below chunk will print the DataFrame underneath."
   ]
  },
  {
   "cell_type": "code",
   "execution_count": 2,
   "id": "5dd712be",
   "metadata": {},
   "outputs": [
    {
     "data": {
      "text/html": [
       "<div>\n",
       "<style scoped>\n",
       "    .dataframe tbody tr th:only-of-type {\n",
       "        vertical-align: middle;\n",
       "    }\n",
       "\n",
       "    .dataframe tbody tr th {\n",
       "        vertical-align: top;\n",
       "    }\n",
       "\n",
       "    .dataframe thead th {\n",
       "        text-align: right;\n",
       "    }\n",
       "</style>\n",
       "<table border=\"1\" class=\"dataframe\">\n",
       "  <thead>\n",
       "    <tr style=\"text-align: right;\">\n",
       "      <th></th>\n",
       "      <th>speed</th>\n",
       "      <th>dist</th>\n",
       "    </tr>\n",
       "  </thead>\n",
       "  <tbody>\n",
       "    <tr>\n",
       "      <th>0</th>\n",
       "      <td>4</td>\n",
       "      <td>2</td>\n",
       "    </tr>\n",
       "    <tr>\n",
       "      <th>1</th>\n",
       "      <td>4</td>\n",
       "      <td>10</td>\n",
       "    </tr>\n",
       "    <tr>\n",
       "      <th>2</th>\n",
       "      <td>7</td>\n",
       "      <td>4</td>\n",
       "    </tr>\n",
       "    <tr>\n",
       "      <th>3</th>\n",
       "      <td>7</td>\n",
       "      <td>22</td>\n",
       "    </tr>\n",
       "    <tr>\n",
       "      <th>4</th>\n",
       "      <td>8</td>\n",
       "      <td>16</td>\n",
       "    </tr>\n",
       "  </tbody>\n",
       "</table>\n",
       "</div>"
      ],
      "text/plain": [
       "   speed  dist\n",
       "0      4     2\n",
       "1      4    10\n",
       "2      7     4\n",
       "3      7    22\n",
       "4      8    16"
      ]
     },
     "execution_count": 2,
     "metadata": {},
     "output_type": "execute_result"
    }
   ],
   "source": [
    "carsDF = pd.read_csv(\"data/cars.csv\")\n",
    "carsDF.head(5)"
   ]
  },
  {
   "cell_type": "markdown",
   "id": "b12e86b7",
   "metadata": {},
   "source": [
    "---\n",
    "As this DataFrame contains only two variables, we can easily produce a simple scatter plot"
   ]
  },
  {
   "cell_type": "code",
   "execution_count": 3,
   "id": "e3f0966e",
   "metadata": {},
   "outputs": [
    {
     "data": {
      "text/plain": [
       "<matplotlib.collections.PathCollection at 0x7f5456be66d0>"
      ]
     },
     "execution_count": 3,
     "metadata": {},
     "output_type": "execute_result"
    },
    {
     "data": {
      "image/png": "[encoded data removed]",
      "text/plain": [
       "<Figure size 432x288 with 1 Axes>"
      ]
     },
     "metadata": {
      "needs_background": "light"
     },
     "output_type": "display_data"
    }
   ],
   "source": [
    "plt.scatter(carsDF['speed'], carsDF['dist'])"
   ]
  },
  {
   "cell_type": "markdown",
   "id": "b823822b",
   "metadata": {},
   "source": [
    "---\n",
    "We can see the variable names in the cars data.frame by calling the command names()"
   ]
  },
  {
   "cell_type": "code",
   "execution_count": 4,
   "id": "851ddf01",
   "metadata": {},
   "outputs": [
    {
     "data": {
      "text/plain": [
       "Index(['speed', 'dist'], dtype='object')"
      ]
     },
     "execution_count": 4,
     "metadata": {},
     "output_type": "execute_result"
    }
   ],
   "source": [
    "carsDF.columns"
   ]
  },
  {
   "cell_type": "markdown",
   "id": "97e3a59c",
   "metadata": {},
   "source": [
    "---\n",
    "To make a simple histogram of one of the variables use the command hist()"
   ]
  },
  {
   "cell_type": "code",
   "execution_count": 5,
   "id": "837c6323",
   "metadata": {},
   "outputs": [
    {
     "data": {
      "text/plain": [
       "(array([2., 3., 4., 6., 8., 5., 7., 8., 1., 6.]),\n",
       " array([ 4. ,  6.1,  8.2, 10.3, 12.4, 14.5, 16.6, 18.7, 20.8, 22.9, 25. ]),\n",
       " <BarContainer object of 10 artists>)"
      ]
     },
     "execution_count": 5,
     "metadata": {},
     "output_type": "execute_result"
    },
    {
     "data": {
      "image/png": "[encoded data removed]",
      "text/plain": [
       "<Figure size 432x288 with 1 Axes>"
      ]
     },
     "metadata": {
      "needs_background": "light"
     },
     "output_type": "display_data"
    }
   ],
   "source": [
    "plt.hist(carsDF['speed'])"
   ]
  },
  {
   "cell_type": "markdown",
   "id": "51ca7180",
   "metadata": {},
   "source": [
    "---\n",
    "We can load a different DataFrame by going to a spreadsheet application (such as excel), creating a few data points and exporting the sheet to a CSV. Then, we can load that CSV"
   ]
  },
  {
   "cell_type": "code",
   "execution_count": 6,
   "id": "2b8afb42",
   "metadata": {},
   "outputs": [
    {
     "data": {
      "text/html": [
       "<div>\n",
       "<style scoped>\n",
       "    .dataframe tbody tr th:only-of-type {\n",
       "        vertical-align: middle;\n",
       "    }\n",
       "\n",
       "    .dataframe tbody tr th {\n",
       "        vertical-align: top;\n",
       "    }\n",
       "\n",
       "    .dataframe thead th {\n",
       "        text-align: right;\n",
       "    }\n",
       "</style>\n",
       "<table border=\"1\" class=\"dataframe\">\n",
       "  <thead>\n",
       "    <tr style=\"text-align: right;\">\n",
       "      <th></th>\n",
       "      <th>speed</th>\n",
       "      <th>category</th>\n",
       "    </tr>\n",
       "  </thead>\n",
       "  <tbody>\n",
       "    <tr>\n",
       "      <th>0</th>\n",
       "      <td>1</td>\n",
       "      <td>A</td>\n",
       "    </tr>\n",
       "    <tr>\n",
       "      <th>1</th>\n",
       "      <td>2</td>\n",
       "      <td>A</td>\n",
       "    </tr>\n",
       "    <tr>\n",
       "      <th>2</th>\n",
       "      <td>3</td>\n",
       "      <td>B</td>\n",
       "    </tr>\n",
       "    <tr>\n",
       "      <th>3</th>\n",
       "      <td>4</td>\n",
       "      <td>B</td>\n",
       "    </tr>\n",
       "    <tr>\n",
       "      <th>4</th>\n",
       "      <td>5</td>\n",
       "      <td>A</td>\n",
       "    </tr>\n",
       "  </tbody>\n",
       "</table>\n",
       "</div>"
      ],
      "text/plain": [
       "   speed category\n",
       "0      1        A\n",
       "1      2        A\n",
       "2      3        B\n",
       "3      4        B\n",
       "4      5        A"
      ]
     },
     "execution_count": 6,
     "metadata": {},
     "output_type": "execute_result"
    }
   ],
   "source": [
    "newCarsDF = pd.read_csv(\"data/newCars.csv\")\n",
    "newCarsDF.head(5)"
   ]
  },
  {
   "cell_type": "markdown",
   "id": "39ca4a65",
   "metadata": {},
   "source": [
    "---\n",
    "Pandas realises that the imported CSV cas a numerical value and a categorical value. We can see that \"speed\" is an integer (int64) while \"category\" is an object"
   ]
  },
  {
   "cell_type": "code",
   "execution_count": 7,
   "id": "47da4514",
   "metadata": {},
   "outputs": [
    {
     "data": {
      "text/plain": [
       "speed        int64\n",
       "category    object\n",
       "dtype: object"
      ]
     },
     "execution_count": 7,
     "metadata": {},
     "output_type": "execute_result"
    }
   ],
   "source": [
    "newCarsDF.dtypes"
   ]
  },
  {
   "cell_type": "markdown",
   "id": "74ffbae4",
   "metadata": {},
   "source": [
    "In a similar fashion, doing a histogram of one of the variables:"
   ]
  },
  {
   "cell_type": "code",
   "execution_count": 8,
   "id": "81636fd7",
   "metadata": {},
   "outputs": [
    {
     "data": {
      "text/plain": [
       "(array([1., 1., 1., 0., 1., 1., 0., 2., 1., 1.]),\n",
       " array([1. , 1.7, 2.4, 3.1, 3.8, 4.5, 5.2, 5.9, 6.6, 7.3, 8. ]),\n",
       " <BarContainer object of 10 artists>)"
      ]
     },
     "execution_count": 8,
     "metadata": {},
     "output_type": "execute_result"
    },
    {
     "data": {
      "image/png": "[encoded data removed]",
      "text/plain": [
       "<Figure size 432x288 with 1 Axes>"
      ]
     },
     "metadata": {
      "needs_background": "light"
     },
     "output_type": "display_data"
    }
   ],
   "source": [
    "plt.hist(newCarsDF['speed'])"
   ]
  },
  {
   "cell_type": "code",
   "execution_count": null,
   "id": "2b70e4a2",
   "metadata": {},
   "outputs": [],
   "source": []
  }
 ],
 "metadata": {
  "kernelspec": {
   "display_name": "Python 3 (ipykernel)",
   "language": "python",
   "name": "python3"
  },
  "language_info": {
   "codemirror_mode": {
    "name": "ipython",
    "version": 3
   },
   "file_extension": ".py",
   "mimetype": "text/x-python",
   "name": "python",
   "nbconvert_exporter": "python",
   "pygments_lexer": "ipython3",
   "version": "3.9.7"
  }
 },
 "nbformat": 4,
 "nbformat_minor": 5
}
